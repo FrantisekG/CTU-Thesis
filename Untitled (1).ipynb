{
 "cells": [
  {
   "cell_type": "markdown",
   "metadata": {},
   "source": [
    "## Practical source\n",
    "- https://medium.com/machine-learning-world/neural-networks-for-algorithmic-trading-1-2-correct-time-series-forecasting-backtesting-9776bfd9e589\n",
    "- https://medium.com/mlreview/a-simple-deep-learning-model-for-stock-price-prediction-using-tensorflow-30505541d877\n",
    "- https://www.quantopian.com/tutorials/getting-started#lesson2\n",
    "- https://github.com/OscarAlsingCommunity/Predict-Cryptocurrency-Price-With-Machine-Learning/blob/master/main.ipynb\n",
    "\n",
    "## Support and resistance algorithms\n",
    "- https://stackoverflow.com/questions/8587047/support-resistance-algorithm-technical-analysis?noredirect=1&lq=1\n",
    "\n",
    "## RNN\n",
    "- https://lilianweng.github.io/lil-log/2017/07/08/predict-stock-prices-using-RNN-part-1.html\n",
    "- https://hackernoon.com/dont-be-fooled-deceptive-cryptocurrency-price-predictions-using-deep-learning-bf27e4837151\n",
    "- https://dashee87.github.io/deep%20learning/python/predicting-cryptocurrency-prices-with-deep-learning/\n",
    "- https://medium.com/@siavash_37715/how-to-predict-bitcoin-and-ethereum-price-with-rnn-lstm-in-keras-a6d8ee8a5109\n",
    "\n",
    "## Other\n",
    "- http://www.erogol.com/cannot-predict-bitcoin-price-vanilla-machine-learning/\n",
    "- https://towardsdatascience.com/stock-prediction-in-python-b66555171a2"
   ]
  },
  {
   "cell_type": "code",
   "execution_count": null,
   "metadata": {
    "collapsed": true
   },
   "outputs": [],
   "source": []
  }
 ],
 "metadata": {
  "kernelspec": {
   "display_name": "Python 3",
   "language": "python",
   "name": "python3"
  },
  "language_info": {
   "codemirror_mode": {
    "name": "ipython",
    "version": 3
   },
   "file_extension": ".py",
   "mimetype": "text/x-python",
   "name": "python",
   "nbconvert_exporter": "python",
   "pygments_lexer": "ipython3",
   "version": "3.6.0"
  }
 },
 "nbformat": 4,
 "nbformat_minor": 2
}

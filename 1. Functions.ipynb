{
 "cells": [
  {
   "cell_type": "markdown",
   "metadata": {},
   "source": [
    "### 1. Packages\n"
   ]
  },
  {
   "cell_type": "code",
   "execution_count": 4,
   "metadata": {},
   "outputs": [],
   "source": [
    "import numpy as np \n",
    "import pandas as pd \n",
    "from matplotlib import pyplot as plt\n",
    "import seaborn as sns\n",
    "%matplotlib inline\n",
    "plt.style.use('seaborn-notebook') #additional modfication of plots using seaborng"
   ]
  },
  {
   "cell_type": "markdown",
   "metadata": {},
   "source": [
    "### 2. Data loading "
   ]
  },
  {
   "cell_type": "code",
   "execution_count": 5,
   "metadata": {},
   "outputs": [
    {
     "data": {
      "text/html": [
       "<div>\n",
       "<style scoped>\n",
       "    .dataframe tbody tr th:only-of-type {\n",
       "        vertical-align: middle;\n",
       "    }\n",
       "\n",
       "    .dataframe tbody tr th {\n",
       "        vertical-align: top;\n",
       "    }\n",
       "\n",
       "    .dataframe thead th {\n",
       "        text-align: right;\n",
       "    }\n",
       "</style>\n",
       "<table border=\"1\" class=\"dataframe\">\n",
       "  <thead>\n",
       "    <tr style=\"text-align: right;\">\n",
       "      <th></th>\n",
       "      <th>Time</th>\n",
       "      <th>Low</th>\n",
       "      <th>High</th>\n",
       "      <th>Open</th>\n",
       "      <th>Close</th>\n",
       "      <th>Volume</th>\n",
       "    </tr>\n",
       "  </thead>\n",
       "  <tbody>\n",
       "    <tr>\n",
       "      <th>0</th>\n",
       "      <td>1528968660</td>\n",
       "      <td>96.580002</td>\n",
       "      <td>96.589996</td>\n",
       "      <td>96.589996</td>\n",
       "      <td>96.580002</td>\n",
       "      <td>9.647200</td>\n",
       "    </tr>\n",
       "    <tr>\n",
       "      <th>1</th>\n",
       "      <td>1528968720</td>\n",
       "      <td>96.449997</td>\n",
       "      <td>96.669998</td>\n",
       "      <td>96.589996</td>\n",
       "      <td>96.660004</td>\n",
       "      <td>314.387024</td>\n",
       "    </tr>\n",
       "    <tr>\n",
       "      <th>2</th>\n",
       "      <td>1528968780</td>\n",
       "      <td>96.470001</td>\n",
       "      <td>96.570000</td>\n",
       "      <td>96.570000</td>\n",
       "      <td>96.570000</td>\n",
       "      <td>77.129799</td>\n",
       "    </tr>\n",
       "    <tr>\n",
       "      <th>3</th>\n",
       "      <td>1528968840</td>\n",
       "      <td>96.449997</td>\n",
       "      <td>96.570000</td>\n",
       "      <td>96.570000</td>\n",
       "      <td>96.500000</td>\n",
       "      <td>7.216067</td>\n",
       "    </tr>\n",
       "    <tr>\n",
       "      <th>4</th>\n",
       "      <td>1528968900</td>\n",
       "      <td>96.279999</td>\n",
       "      <td>96.540001</td>\n",
       "      <td>96.500000</td>\n",
       "      <td>96.389999</td>\n",
       "      <td>524.539978</td>\n",
       "    </tr>\n",
       "  </tbody>\n",
       "</table>\n",
       "</div>"
      ],
      "text/plain": [
       "         Time        Low       High       Open      Close      Volume\n",
       "0  1528968660  96.580002  96.589996  96.589996  96.580002    9.647200\n",
       "1  1528968720  96.449997  96.669998  96.589996  96.660004  314.387024\n",
       "2  1528968780  96.470001  96.570000  96.570000  96.570000   77.129799\n",
       "3  1528968840  96.449997  96.570000  96.570000  96.500000    7.216067\n",
       "4  1528968900  96.279999  96.540001  96.500000  96.389999  524.539978"
      ]
     },
     "execution_count": 5,
     "metadata": {},
     "output_type": "execute_result"
    }
   ],
   "source": [
    "#in case of unlabelled data we can label them\n",
    "df = pd.read_csv(\"/Users/frantisek.grossmann/Desktop/Sets/crypto_data/LTC-USD.csv\", names=['Time', 'Low', 'High', 'Open', 'Close', 'Volume'])\n",
    "df.head() #all of the sets are indexed by time"
   ]
  },
  {
   "cell_type": "markdown",
   "metadata": {},
   "source": [
    "### 3. Joining BTC, LTC, BCH, ETH into one dataframe "
   ]
  },
  {
   "cell_type": "code",
   "execution_count": 6,
   "metadata": {},
   "outputs": [
    {
     "name": "stdout",
     "output_type": "stream",
     "text": [
      "BTC-USD_Close\n",
      "BTC-USD_Volume\n",
      "LTC-USD_Close\n",
      "LTC-USD_Volume\n",
      "BCH-USD_Close\n",
      "BCH-USD_Volume\n",
      "ETH-USD_Close\n",
      "ETH-USD_Volume\n"
     ]
    }
   ],
   "source": [
    "main_df = pd.DataFrame() # begin empty dataframe, in order to merge dataframes\n",
    "pairs = [\"BTC-USD\", \"LTC-USD\", \"BCH-USD\", \"ETH-USD\"]\n",
    "for pair in pairs:\n",
    "    #print (ratios) for control \n",
    "    dataset=f\"/Users/frantisek.grossmann/Desktop/Sets/crypto_data/{pair}.csv\" #we created a dataset that f formats the strings using f\n",
    "\n",
    "    df=pd.read_csv(dataset,names=['Time', 'Low', 'High', 'Open', 'Close', 'Volume'])\n",
    "    #print(df.head()) for control purposes\n",
    "    df.rename(columns={\"Close\": f\"{pair}_Close\",\"Volume\": f\"{pair}_Volume\"}, inplace=True) #renaming of columns in the dataframe\n",
    "    \n",
    "    df.set_index(\"Time\", inplace=True)\n",
    "    \n",
    "    df=df[[f\"{pair}_Close\",f\"{pair}_Volume\"]] # a dataframe of only Close and Volume\n",
    "    \n",
    "    #print(df.head()) for control \n",
    "    \n",
    "    if len(main_df)==0:\n",
    "        main_df=df\n",
    "    else:\n",
    "        main_df=main_df.join(df)\n",
    "    \n",
    "    #print(main_df.head()) for control \n",
    "    \n",
    "#testing if the defined columns are available in the dataframe for each pair\n",
    "for i in main_df.columns:\n",
    "    print(i)"
   ]
  },
  {
   "cell_type": "code",
   "execution_count": 7,
   "metadata": {},
   "outputs": [],
   "source": [
    "Seq_Length= 60 #the last 60 minutes of pricing data for prediction\n",
    "Future_Time_Predict= 3 #how many minutes/hours into the future do we predict // functions like slicing\n",
    "Predicted_Pair=\"LTC-USD\"\n",
    "\n",
    "# A simple function that runs through Current and Future columns and through an if function decides whether to buy or sell\n",
    "def classify (current_price, future_price):\n",
    "    if float(future_price) > float(current_price): #if future price in training data is greater than current return an int 1\n",
    "        return 1 #buy\n",
    "    else:\n",
    "        return 0 #sell"
   ]
  },
  {
   "cell_type": "code",
   "execution_count": 9,
   "metadata": {},
   "outputs": [
    {
     "name": "stdout",
     "output_type": "stream",
     "text": [
      "            LTC-USD_Close     Future\n",
      "Time                                \n",
      "1528968660      96.580002  96.500000\n",
      "1528968720      96.660004  96.389999\n",
      "1528968780      96.570000  96.519997\n",
      "1528968840      96.500000  96.440002\n",
      "1528968900      96.389999  96.470001\n"
     ]
    }
   ],
   "source": [
    "main_df[\"Future\"]=main_df[f\"{Predicted_Pair}_Close\"].shift(-Future_Time_Predict)\n",
    "print(main_df[[f\"{Predicted_Pair}_Close\", \"Future\"]].head())\n",
    "#prints out the current price in column LTC-USD_Close  96.580002\n",
    "#prints out the 3 periods into the future price 96.500000"
   ]
  },
  {
   "cell_type": "code",
   "execution_count": 18,
   "metadata": {},
   "outputs": [
    {
     "name": "stdout",
     "output_type": "stream",
     "text": [
      "            LTC-USD_Close     Future  Target\n",
      "Time                                        \n",
      "1528968660      96.580002  96.500000       0\n",
      "1528968720      96.660004  96.389999       0\n",
      "1528968780      96.570000  96.519997       0\n",
      "1528968840      96.500000  96.440002       0\n",
      "1528968900      96.389999  96.470001       1\n",
      "1528968960      96.519997  96.400002       0\n",
      "1528969020      96.440002  96.400002       0\n",
      "1528969080      96.470001  96.400002       0\n",
      "1528969140      96.400002  96.400002       0\n",
      "1528969200      96.400002  96.400002       0\n",
      "1528969260      96.400002  96.449997       1\n",
      "1528969320      96.400002  96.419998       1\n",
      "1528969380      96.400002  96.400002       0\n",
      "1528969440      96.449997  96.419998       0\n",
      "1528969500      96.419998  96.570000       1\n",
      "1528969560      96.400002  96.489998       1\n",
      "1528969620      96.419998  96.589996       1\n",
      "1528969680      96.570000  96.529999       0\n",
      "1528969740      96.489998  96.629997       1\n",
      "1528969800      96.589996  96.599998       1\n"
     ]
    }
   ],
   "source": [
    "main_df[\"Target\"]=list(map(classify, main_df[f\"{Predicted_Pair}_Close\"],main_df[\"Future\"]))\n",
    "print(main_df[[f\"{Predicted_Pair}_Close\", \"Future\", \"Target\"]].head(20))"
   ]
  },
  {
   "cell_type": "code",
   "execution_count": null,
   "metadata": {},
   "outputs": [],
   "source": []
  }
 ],
 "metadata": {
  "kernelspec": {
   "display_name": "Python 3",
   "language": "python",
   "name": "python3"
  },
  "language_info": {
   "codemirror_mode": {
    "name": "ipython",
    "version": 3
   },
   "file_extension": ".py",
   "mimetype": "text/x-python",
   "name": "python",
   "nbconvert_exporter": "python",
   "pygments_lexer": "ipython3",
   "version": "3.6.5"
  }
 },
 "nbformat": 4,
 "nbformat_minor": 2
}
